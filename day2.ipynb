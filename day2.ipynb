{
 "cells": [
  {
   "cell_type": "code",
   "execution_count": 18,
   "id": "3f921a64",
   "metadata": {},
   "outputs": [
    {
     "name": "stdout",
     "output_type": "stream",
     "text": [
      "my name is:Mouni, my age is:25 and my clg is:vignan\n"
     ]
    }
   ],
   "source": [
    "Name = 'Mouni'\n",
    "age = 25\n",
    "clg = 'vignan'\n",
    "print('my name is:{one}, my age is:{two} and my clg is:{three}'.format(one=Name,two=age,three=clg))"
   ]
  },
  {
   "cell_type": "code",
   "execution_count": 21,
   "id": "ec87111a",
   "metadata": {},
   "outputs": [
    {
     "name": "stdout",
     "output_type": "stream",
     "text": [
      "my name is:Mouni, my age is:25 and my clg is:vignan\n"
     ]
    }
   ],
   "source": [
    "print('my name is:{}, my age is:{} and my clg is:{}'.format(Name,age,clg))"
   ]
  },
  {
   "cell_type": "code",
   "execution_count": 22,
   "id": "26cfe8be",
   "metadata": {},
   "outputs": [
    {
     "name": "stdout",
     "output_type": "stream",
     "text": [
      "my name is:25, my age is:Mouni and my clg is:vignan\n"
     ]
    }
   ],
   "source": [
    "print('my name is:{}, my age is:{} and my clg is:{}'.format(age,Name,clg))"
   ]
  },
  {
   "cell_type": "code",
   "execution_count": 23,
   "id": "6c272bf2",
   "metadata": {},
   "outputs": [
    {
     "name": "stdout",
     "output_type": "stream",
     "text": [
      "my name is:vignan, my age is:25 and my clg is:vignan\n"
     ]
    }
   ],
   "source": [
    "print('my name is:{}, my age is:{} and my clg is:{}'.format(clg,age,clg))"
   ]
  },
  {
   "cell_type": "code",
   "execution_count": 24,
   "id": "c0ca6007",
   "metadata": {},
   "outputs": [
    {
     "name": "stdout",
     "output_type": "stream",
     "text": [
      "my name is:Mouni, my age is:Mouni and my clg is:vignan\n"
     ]
    }
   ],
   "source": [
    "print('my name is:{}, my age is:{} and my clg is:{}'.format(Name,Name,clg))"
   ]
  },
  {
   "cell_type": "code",
   "execution_count": 26,
   "id": "3b5bad77",
   "metadata": {},
   "outputs": [
    {
     "name": "stdout",
     "output_type": "stream",
     "text": [
      "Hi!, My name is:Ramesh,age is:24,height is:5ft,address is:Guntur,office is:abc\n"
     ]
    }
   ],
   "source": [
    "Name='Ramesh'\n",
    "Age=24\n",
    "height='5ft'\n",
    "address='Guntur'\n",
    "office='abc'\n",
    "print('Hi!, My name is:{},age is:{},height is:{},address is:{},office is:{}'.format(Name,Age,height,address,office))"
   ]
  },
  {
   "cell_type": "code",
   "execution_count": 27,
   "id": "b960854f",
   "metadata": {},
   "outputs": [
    {
     "name": "stdout",
     "output_type": "stream",
     "text": [
      "Hi!, My name is:Ramesh,age is:24,height is:5ft,address is:Guntur,office is:abc\n"
     ]
    }
   ],
   "source": [
    "print('Hi!, My name is:{},age is:{},height is:{},address is:{},office is:{}'.format(Name,Age,height,address,office))"
   ]
  },
  {
   "cell_type": "code",
   "execution_count": 28,
   "id": "90838888",
   "metadata": {},
   "outputs": [
    {
     "name": "stdout",
     "output_type": "stream",
     "text": [
      "Hi!, My name is:24,age is:24,height is:5ft,address is:Guntur,office is:abc\n"
     ]
    }
   ],
   "source": [
    "print('Hi!, My name is:{},age is:{},height is:{},address is:{},office is:{}'.format(Age,Age,height,address,office))"
   ]
  },
  {
   "cell_type": "code",
   "execution_count": 30,
   "id": "ac471600",
   "metadata": {},
   "outputs": [],
   "source": [
    "a=[1,2,3,[4,5,6,[7,8,9,[10,11,12,3,4,[5,6,7]]]]]"
   ]
  },
  {
   "cell_type": "code",
   "execution_count": 31,
   "id": "64089a02",
   "metadata": {},
   "outputs": [
    {
     "data": {
      "text/plain": [
       "1"
      ]
     },
     "execution_count": 31,
     "metadata": {},
     "output_type": "execute_result"
    }
   ],
   "source": [
    "a[0]"
   ]
  },
  {
   "cell_type": "code",
   "execution_count": 35,
   "id": "d6d72082",
   "metadata": {},
   "outputs": [
    {
     "data": {
      "text/plain": [
       "2"
      ]
     },
     "execution_count": 35,
     "metadata": {},
     "output_type": "execute_result"
    }
   ],
   "source": [
    "a[1]"
   ]
  },
  {
   "cell_type": "code",
   "execution_count": 36,
   "id": "9a0cc517",
   "metadata": {},
   "outputs": [
    {
     "data": {
      "text/plain": [
       "3"
      ]
     },
     "execution_count": 36,
     "metadata": {},
     "output_type": "execute_result"
    }
   ],
   "source": [
    "a[2]"
   ]
  },
  {
   "cell_type": "code",
   "execution_count": 37,
   "id": "274fd69d",
   "metadata": {},
   "outputs": [
    {
     "data": {
      "text/plain": [
       "[4, 5, 6, [7, 8, 9, [10, 11, 12, 3, 4, [5, 6, 7]]]]"
      ]
     },
     "execution_count": 37,
     "metadata": {},
     "output_type": "execute_result"
    }
   ],
   "source": [
    "a[3]"
   ]
  },
  {
   "cell_type": "code",
   "execution_count": 38,
   "id": "2b85fccd",
   "metadata": {},
   "outputs": [
    {
     "data": {
      "text/plain": [
       "6"
      ]
     },
     "execution_count": 38,
     "metadata": {},
     "output_type": "execute_result"
    }
   ],
   "source": [
    "a[3][2]"
   ]
  },
  {
   "cell_type": "code",
   "execution_count": 40,
   "id": "7663ad74",
   "metadata": {},
   "outputs": [
    {
     "data": {
      "text/plain": [
       "[7, 8, 9, [10, 11, 12, 3, 4, [5, 6, 7]]]"
      ]
     },
     "execution_count": 40,
     "metadata": {},
     "output_type": "execute_result"
    }
   ],
   "source": [
    "a[3][3]"
   ]
  },
  {
   "cell_type": "code",
   "execution_count": 41,
   "id": "436fe388",
   "metadata": {},
   "outputs": [
    {
     "data": {
      "text/plain": [
       "8"
      ]
     },
     "execution_count": 41,
     "metadata": {},
     "output_type": "execute_result"
    }
   ],
   "source": [
    "a[3][3][1]"
   ]
  },
  {
   "cell_type": "code",
   "execution_count": 42,
   "id": "8347d961",
   "metadata": {},
   "outputs": [
    {
     "data": {
      "text/plain": [
       "[10, 11, 12, 3, 4, [5, 6, 7]]"
      ]
     },
     "execution_count": 42,
     "metadata": {},
     "output_type": "execute_result"
    }
   ],
   "source": [
    "a[3][3][3]"
   ]
  },
  {
   "cell_type": "code",
   "execution_count": 43,
   "id": "fe39a059",
   "metadata": {},
   "outputs": [
    {
     "data": {
      "text/plain": [
       "10"
      ]
     },
     "execution_count": 43,
     "metadata": {},
     "output_type": "execute_result"
    }
   ],
   "source": [
    "a[3][3][3][0]"
   ]
  },
  {
   "cell_type": "code",
   "execution_count": 44,
   "id": "354fdcad",
   "metadata": {},
   "outputs": [
    {
     "data": {
      "text/plain": [
       "[5, 6, 7]"
      ]
     },
     "execution_count": 44,
     "metadata": {},
     "output_type": "execute_result"
    }
   ],
   "source": [
    "a[3][3][3][5]"
   ]
  },
  {
   "cell_type": "code",
   "execution_count": 45,
   "id": "553749e1",
   "metadata": {},
   "outputs": [
    {
     "data": {
      "text/plain": [
       "5"
      ]
     },
     "execution_count": 45,
     "metadata": {},
     "output_type": "execute_result"
    }
   ],
   "source": [
    "a[3][3][3][5][0]"
   ]
  },
  {
   "cell_type": "code",
   "execution_count": 46,
   "id": "067d08f0",
   "metadata": {},
   "outputs": [],
   "source": [
    "cat=['adc','jhhj','vgvh','gg',['bhbiu','vhgb','bbuiho',['jhj','mm']]]"
   ]
  },
  {
   "cell_type": "code",
   "execution_count": 47,
   "id": "9746086b",
   "metadata": {},
   "outputs": [
    {
     "data": {
      "text/plain": [
       "'adc'"
      ]
     },
     "execution_count": 47,
     "metadata": {},
     "output_type": "execute_result"
    }
   ],
   "source": [
    "cat[0]"
   ]
  },
  {
   "cell_type": "code",
   "execution_count": 48,
   "id": "652f2676",
   "metadata": {},
   "outputs": [
    {
     "data": {
      "text/plain": [
       "['bhbiu', 'vhgb', 'bbuiho', ['jhj', 'mm']]"
      ]
     },
     "execution_count": 48,
     "metadata": {},
     "output_type": "execute_result"
    }
   ],
   "source": [
    "cat[4]"
   ]
  },
  {
   "cell_type": "code",
   "execution_count": 49,
   "id": "16257d00",
   "metadata": {},
   "outputs": [
    {
     "data": {
      "text/plain": [
       "['jhj', 'mm']"
      ]
     },
     "execution_count": 49,
     "metadata": {},
     "output_type": "execute_result"
    }
   ],
   "source": [
    "cat[4][3]"
   ]
  },
  {
   "cell_type": "code",
   "execution_count": 50,
   "id": "4c0654e8",
   "metadata": {},
   "outputs": [
    {
     "data": {
      "text/plain": [
       "'jhj'"
      ]
     },
     "execution_count": 50,
     "metadata": {},
     "output_type": "execute_result"
    }
   ],
   "source": [
    "cat[4][3][0]"
   ]
  },
  {
   "cell_type": "code",
   "execution_count": 56,
   "id": "260a4e84",
   "metadata": {},
   "outputs": [],
   "source": [
    "cat. append('rf')"
   ]
  },
  {
   "cell_type": "code",
   "execution_count": 57,
   "id": "ebd6b11a",
   "metadata": {},
   "outputs": [
    {
     "data": {
      "text/plain": [
       "['adc', 'jhhj', 'vgvh', 'gg', ['bhbiu', 'vhgb', 'bbuiho', ['jhj', 'mm']], 'rf']"
      ]
     },
     "execution_count": 57,
     "metadata": {},
     "output_type": "execute_result"
    }
   ],
   "source": [
    "cat"
   ]
  },
  {
   "cell_type": "code",
   "execution_count": 58,
   "id": "1dc56292",
   "metadata": {},
   "outputs": [],
   "source": [
    "a.append('uhi')"
   ]
  },
  {
   "cell_type": "code",
   "execution_count": 59,
   "id": "df3c36ff",
   "metadata": {},
   "outputs": [
    {
     "name": "stdout",
     "output_type": "stream",
     "text": [
      "[1, 2, 3, [4, 5, 6, [7, 8, 9, [10, 11, 12, 3, 4, [5, 6, 7]]]], 'uhi']\n"
     ]
    }
   ],
   "source": [
    "print(a)"
   ]
  },
  {
   "cell_type": "code",
   "execution_count": 60,
   "id": "b684c2ba",
   "metadata": {},
   "outputs": [
    {
     "data": {
      "text/plain": [
       "[[4, 5, 6, [7, 8, 9, [10, 11, 12, 3, 4, [5, 6, 7]]]], 'uhi']"
      ]
     },
     "execution_count": 60,
     "metadata": {},
     "output_type": "execute_result"
    }
   ],
   "source": [
    "a[3:]"
   ]
  },
  {
   "cell_type": "code",
   "execution_count": 61,
   "id": "c76e7ffb",
   "metadata": {},
   "outputs": [
    {
     "data": {
      "text/plain": [
       "[1, 2, 3]"
      ]
     },
     "execution_count": 61,
     "metadata": {},
     "output_type": "execute_result"
    }
   ],
   "source": [
    "a[:3]"
   ]
  },
  {
   "cell_type": "code",
   "execution_count": 64,
   "id": "35dac55c",
   "metadata": {},
   "outputs": [
    {
     "data": {
      "text/plain": [
       "[1, 2, 3, [4, 5, 6, [7, 8, 9, [10, 11, 12, 3, 4, [5, 6, 7]]]], 'uhi']"
      ]
     },
     "execution_count": 64,
     "metadata": {},
     "output_type": "execute_result"
    }
   ],
   "source": [
    "a"
   ]
  },
  {
   "cell_type": "code",
   "execution_count": 65,
   "id": "53184777",
   "metadata": {},
   "outputs": [
    {
     "data": {
      "text/plain": [
       "'uhi'"
      ]
     },
     "execution_count": 65,
     "metadata": {},
     "output_type": "execute_result"
    }
   ],
   "source": [
    "a[4]"
   ]
  },
  {
   "cell_type": "code",
   "execution_count": null,
   "id": "d1fc9b48",
   "metadata": {},
   "outputs": [],
   "source": []
  }
 ],
 "metadata": {
  "kernelspec": {
   "display_name": "Python 3 (ipykernel)",
   "language": "python",
   "name": "python3"
  },
  "language_info": {
   "codemirror_mode": {
    "name": "ipython",
    "version": 3
   },
   "file_extension": ".py",
   "mimetype": "text/x-python",
   "name": "python",
   "nbconvert_exporter": "python",
   "pygments_lexer": "ipython3",
   "version": "3.9.12"
  }
 },
 "nbformat": 4,
 "nbformat_minor": 5
}
