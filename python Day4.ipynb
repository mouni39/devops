{
 "cells": [
  {
   "cell_type": "code",
   "execution_count": 5,
   "id": "dbdde54c",
   "metadata": {},
   "outputs": [
    {
     "name": "stdout",
     "output_type": "stream",
     "text": [
      "what is your name? Dr SSn\n"
     ]
    },
    {
     "data": {
      "text/plain": [
       "str"
      ]
     },
     "execution_count": 5,
     "metadata": {},
     "output_type": "execute_result"
    }
   ],
   "source": [
    "\n",
    "name = input('what is your name? ')\n",
    "print ('Hi'+ name )\n"
   ]
  },
  {
   "cell_type": "code",
   "execution_count": 8,
   "id": "7db00fa0",
   "metadata": {},
   "outputs": [
    {
     "name": "stdout",
     "output_type": "stream",
     "text": [
      "what is your name? 1234\n"
     ]
    },
    {
     "data": {
      "text/plain": [
       "str"
      ]
     },
     "execution_count": 8,
     "metadata": {},
     "output_type": "execute_result"
    }
   ],
   "source": [
    "name = input('what is your name? ')\n",
    "type(name)"
   ]
  },
  {
   "cell_type": "code",
   "execution_count": 12,
   "id": "0b420928",
   "metadata": {},
   "outputs": [
    {
     "name": "stdout",
     "output_type": "stream",
     "text": [
      "what is your name? drssn\n",
      "What is your Rank in your Home 1\n",
      "drssnMy Rank is 1\n"
     ]
    }
   ],
   "source": [
    "name = input('what is your name? ')\n",
    "rank = input ('What is your Rank in your Home ')\n",
    "print ( name  + 'My Rank is ' + rank)"
   ]
  },
  {
   "cell_type": "code",
   "execution_count": 13,
   "id": "1c58c029",
   "metadata": {},
   "outputs": [
    {
     "name": "stdout",
     "output_type": "stream",
     "text": [
      "Birth Year : 1982\n"
     ]
    },
    {
     "ename": "TypeError",
     "evalue": "unsupported operand type(s) for -: 'int' and 'str'",
     "output_type": "error",
     "traceback": [
      "\u001b[1;31m---------------------------------------------------------------------------\u001b[0m",
      "\u001b[1;31mTypeError\u001b[0m                                 Traceback (most recent call last)",
      "\u001b[1;32m<ipython-input-13-4eb1b5038552>\u001b[0m in \u001b[0;36m<module>\u001b[1;34m\u001b[0m\n\u001b[0;32m      1\u001b[0m \u001b[0mbirth_year\u001b[0m \u001b[1;33m=\u001b[0m \u001b[0minput\u001b[0m\u001b[1;33m(\u001b[0m\u001b[1;34m'Birth Year : '\u001b[0m\u001b[1;33m)\u001b[0m\u001b[1;33m\u001b[0m\u001b[1;33m\u001b[0m\u001b[0m\n\u001b[1;32m----> 2\u001b[1;33m \u001b[0mage\u001b[0m\u001b[1;33m=\u001b[0m\u001b[1;36m2022\u001b[0m\u001b[1;33m-\u001b[0m\u001b[0mbirth_year\u001b[0m\u001b[1;33m\u001b[0m\u001b[1;33m\u001b[0m\u001b[0m\n\u001b[0m\u001b[0;32m      3\u001b[0m \u001b[0mprint\u001b[0m\u001b[1;33m(\u001b[0m\u001b[0mage\u001b[0m\u001b[1;33m)\u001b[0m\u001b[1;33m\u001b[0m\u001b[1;33m\u001b[0m\u001b[0m\n",
      "\u001b[1;31mTypeError\u001b[0m: unsupported operand type(s) for -: 'int' and 'str'"
     ]
    }
   ],
   "source": [
    "birth_year = input('Birth Year : ')\n",
    "age=2022-birth_year\n",
    "print(age)"
   ]
  },
  {
   "cell_type": "code",
   "execution_count": 15,
   "id": "c0f8a024",
   "metadata": {},
   "outputs": [
    {
     "name": "stdout",
     "output_type": "stream",
     "text": [
      "Birth Year : 1999\n",
      "23\n"
     ]
    }
   ],
   "source": [
    "birth_year = input('Birth Year : ')\n",
    "age=2022-int(birth_year)\n",
    "print(age)"
   ]
  },
  {
   "cell_type": "code",
   "execution_count": 16,
   "id": "e5ceb048",
   "metadata": {},
   "outputs": [
    {
     "name": "stdout",
     "output_type": "stream",
     "text": [
      "Python for Machine Learning\n"
     ]
    }
   ],
   "source": [
    "course='Python for Machine Learning'\n",
    "print(course[:])"
   ]
  },
  {
   "cell_type": "code",
   "execution_count": 19,
   "id": "14340d63",
   "metadata": {},
   "outputs": [
    {
     "name": "stdout",
     "output_type": "stream",
     "text": [
      "Python\n"
     ]
    }
   ],
   "source": [
    "course='Python for Machine Learning'\n",
    "print(course[0:6])"
   ]
  },
  {
   "cell_type": "code",
   "execution_count": 7,
   "id": "2f061b55",
   "metadata": {},
   "outputs": [
    {
     "name": "stdout",
     "output_type": "stream",
     "text": [
      "P\n"
     ]
    }
   ],
   "source": [
    "course='Python for Machine Learning'\n",
    "print(course[0])"
   ]
  },
  {
   "cell_type": "code",
   "execution_count": 8,
   "id": "24e7df83",
   "metadata": {},
   "outputs": [
    {
     "name": "stdout",
     "output_type": "stream",
     "text": [
      "y\n"
     ]
    }
   ],
   "source": [
    "course='Python for Machine Learning'\n",
    "print(course[1])"
   ]
  },
  {
   "cell_type": "code",
   "execution_count": 20,
   "id": "755ff6bd",
   "metadata": {},
   "outputs": [
    {
     "name": "stdout",
     "output_type": "stream",
     "text": [
      "g\n"
     ]
    }
   ],
   "source": [
    "course='Python for Machine Learning'\n",
    "print(course[-1])"
   ]
  },
  {
   "cell_type": "code",
   "execution_count": 21,
   "id": "19be38fa",
   "metadata": {},
   "outputs": [
    {
     "name": "stdout",
     "output_type": "stream",
     "text": [
      "ython for Machine Learni\n"
     ]
    }
   ],
   "source": [
    "course='Python for Machine Learning'\n",
    "print(course[1:-2])"
   ]
  },
  {
   "cell_type": "code",
   "execution_count": 22,
   "id": "7e590681",
   "metadata": {},
   "outputs": [
    {
     "name": "stdout",
     "output_type": "stream",
     "text": [
      "Drssn[ss] is good coder\n"
     ]
    }
   ],
   "source": [
    "first = 'Drssn'\n",
    "last='ss'\n",
    "message = first + '['+last+'] is good coder'\n",
    "print(message)"
   ]
  },
  {
   "cell_type": "code",
   "execution_count": null,
   "id": "d6ef1912",
   "metadata": {},
   "outputs": [],
   "source": []
  },
  {
   "cell_type": "code",
   "execution_count": 23,
   "id": "34ba964e",
   "metadata": {},
   "outputs": [
    {
     "name": "stdout",
     "output_type": "stream",
     "text": [
      "11\n"
     ]
    }
   ],
   "source": [
    "course='Python for Machine Learning'\n",
    "print(course.find('M'))"
   ]
  },
  {
   "cell_type": "code",
   "execution_count": 26,
   "id": "cb295ea4",
   "metadata": {},
   "outputs": [
    {
     "name": "stdout",
     "output_type": "stream",
     "text": [
      "7\n"
     ]
    }
   ],
   "source": [
    "course='Python for Machine Learning'\n",
    "print(course.find('for'))"
   ]
  },
  {
   "cell_type": "code",
   "execution_count": 28,
   "id": "6009c1c6",
   "metadata": {},
   "outputs": [
    {
     "name": "stdout",
     "output_type": "stream",
     "text": [
      "Advanced Python Learneers for Devops\n"
     ]
    }
   ],
   "source": [
    "course='Python for Devops'\n",
    "print(course.replace('Python','Advanced Python Learneers'))"
   ]
  },
  {
   "cell_type": "code",
   "execution_count": 34,
   "id": "7fc47c19",
   "metadata": {},
   "outputs": [
    {
     "name": "stdout",
     "output_type": "stream",
     "text": [
      "python for machine learning\n",
      "PYTHON FOR MACHINE LEARNING\n",
      "python for machine learning\n",
      "Python For Machine Learning\n"
     ]
    }
   ],
   "source": [
    "course='python for machine learning'\n",
    "print(course.replace('machine Learning','Advanced Python Learneers'))\n",
    "print(course.upper())\n",
    "print(course.lower())\n",
    "print(course.title())"
   ]
  },
  {
   "cell_type": "code",
   "execution_count": 36,
   "id": "87cf445d",
   "metadata": {},
   "outputs": [
    {
     "data": {
      "text/plain": [
       "7"
      ]
     },
     "execution_count": 36,
     "metadata": {},
     "output_type": "execute_result"
    }
   ],
   "source": [
    "2+5"
   ]
  },
  {
   "cell_type": "code",
   "execution_count": 35,
   "id": "27caf2e4",
   "metadata": {},
   "outputs": [
    {
     "name": "stdout",
     "output_type": "stream",
     "text": [
      "7\n"
     ]
    }
   ],
   "source": [
    "a=2\n",
    "b=5\n",
    "c=a+b\n",
    "print(c)"
   ]
  },
  {
   "cell_type": "code",
   "execution_count": 42,
   "id": "c9238f9d",
   "metadata": {},
   "outputs": [
    {
     "name": "stdout",
     "output_type": "stream",
     "text": [
      "Enter A: 10\n",
      "Enter B: 12\n",
      "Sum:  1012\n"
     ]
    }
   ],
   "source": [
    "# input two numbers: value of a and b with out int \n",
    "a = (input(\"Enter A: \"))\n",
    "b = (input(\"Enter B: \"))\n",
    "\n",
    "# find sum of a and b and assign to c\n",
    "c = a+b\n",
    "\n",
    "# print sum (c)\n",
    "print(\"Sum: \",c)\n"
   ]
  },
  {
   "cell_type": "code",
   "execution_count": 43,
   "id": "f2d2e6b0",
   "metadata": {},
   "outputs": [
    {
     "name": "stdout",
     "output_type": "stream",
     "text": [
      "Enter A: 10\n",
      "Enter B: 12\n",
      "Sum:  22\n"
     ]
    }
   ],
   "source": [
    "# input two numbers: value of a and b with int \n",
    "a = int(input(\"Enter A: \"))\n",
    "b = int(input(\"Enter B: \"))\n",
    "\n",
    "# find sum of a and b and assign to c\n",
    "c = a+b\n",
    "\n",
    "# print sum (c)\n",
    "print(\"Sum: \",c)"
   ]
  },
  {
   "cell_type": "code",
   "execution_count": 48,
   "id": "8e7f48a1",
   "metadata": {},
   "outputs": [
    {
     "name": "stdout",
     "output_type": "stream",
     "text": [
      "Enter A: 12\n",
      "Enter B: 12\n",
      "Enter C: 12\n",
      "Greater  =  12\n"
     ]
    }
   ],
   "source": [
    "# input three integer numbers \n",
    "a=int(input(\"Enter A: \"))\n",
    "b=int(input(\"Enter B: \"))\n",
    "c=int(input(\"Enter C: \"))\n",
    "\n",
    "# conditions to find largest \n",
    "if a>b:\n",
    "    if a>c:\n",
    "        g=a\n",
    "    else:\n",
    "        g=c\n",
    "else:\n",
    "    if b>c:\n",
    "        g=b\n",
    "    else:\n",
    "        g=c\n",
    "\n",
    "# print the largest number \n",
    "print(\"Greater  = \",g)\n"
   ]
  },
  {
   "cell_type": "code",
   "execution_count": null,
   "id": "b4257385",
   "metadata": {},
   "outputs": [],
   "source": [
    "# Find Largest number of given 4 User input numbers\n",
    "# Find Largest number of given n User input numbers"
   ]
  },
  {
   "cell_type": "code",
   "execution_count": 50,
   "id": "70da9227",
   "metadata": {},
   "outputs": [
    {
     "name": "stdout",
     "output_type": "stream",
     "text": [
      "Enter the value of n: 100\n",
      "value of n:  100\n",
      "numbers from 100 to 1 are: \n",
      "100\n",
      "99\n",
      "98\n",
      "97\n",
      "96\n",
      "95\n",
      "94\n",
      "93\n",
      "92\n",
      "91\n",
      "90\n",
      "89\n",
      "88\n",
      "87\n",
      "86\n",
      "85\n",
      "84\n",
      "83\n",
      "82\n",
      "81\n",
      "80\n",
      "79\n",
      "78\n",
      "77\n",
      "76\n",
      "75\n",
      "74\n",
      "73\n",
      "72\n",
      "71\n",
      "70\n",
      "69\n",
      "68\n",
      "67\n",
      "66\n",
      "65\n",
      "64\n",
      "63\n",
      "62\n",
      "61\n",
      "60\n",
      "59\n",
      "58\n",
      "57\n",
      "56\n",
      "55\n",
      "54\n",
      "53\n",
      "52\n",
      "51\n",
      "50\n",
      "49\n",
      "48\n",
      "47\n",
      "46\n",
      "45\n",
      "44\n",
      "43\n",
      "42\n",
      "41\n",
      "40\n",
      "39\n",
      "38\n",
      "37\n",
      "36\n",
      "35\n",
      "34\n",
      "33\n",
      "32\n",
      "31\n",
      "30\n",
      "29\n",
      "28\n",
      "27\n",
      "26\n",
      "25\n",
      "24\n",
      "23\n",
      "22\n",
      "21\n",
      "20\n",
      "19\n",
      "18\n",
      "17\n",
      "16\n",
      "15\n",
      "14\n",
      "13\n",
      "12\n",
      "11\n",
      "10\n",
      "9\n",
      "8\n",
      "7\n",
      "6\n",
      "5\n",
      "4\n",
      "3\n",
      "2\n",
      "1\n"
     ]
    }
   ],
   "source": [
    "# Python program to print numbers\n",
    "# from n to 1\n",
    "\n",
    "# input the value of n\n",
    "n = int(input(\"Enter the value of n: \"))\n",
    "\n",
    "# check the input value\n",
    "if (n<=1):\n",
    "\tprint(\"n should be greater than 1\")\n",
    "\texit()\n",
    "\t\n",
    "# print the value of n\n",
    "print (\"value of n: \",n)\n",
    "\n",
    "# print the numbers from n to 1\n",
    "# message\n",
    "print( \"numbers from {0} to {1} are: \".format(n,1))\n",
    "\n",
    "# loop to print numbers \n",
    "for i in range(n,0,-1):\n",
    "\tprint( i)\n"
   ]
  },
  {
   "cell_type": "code",
   "execution_count": 52,
   "id": "899998d6",
   "metadata": {},
   "outputs": [
    {
     "name": "stdout",
     "output_type": "stream",
     "text": [
      "Enter Age : 17\n",
      "You are  Not Eligible  for Vote.\n"
     ]
    }
   ],
   "source": [
    "# input age\n",
    "age = int(input(\"Enter Age : \"))\n",
    "\n",
    "# condition to check voting eligibility\n",
    "if age>=18:\n",
    "        status=\"Eligible\"\n",
    "else:\n",
    "    status=\"Not Eligible\"\n",
    "\n",
    "print(\"You are \",status,\" for Vote.\")\n"
   ]
  },
  {
   "cell_type": "code",
   "execution_count": 54,
   "id": "f1a944da",
   "metadata": {},
   "outputs": [
    {
     "name": "stdout",
     "output_type": "stream",
     "text": [
      "Enter a number: 12\n",
      "12 is Even\n"
     ]
    }
   ],
   "source": [
    "# Python program to check if the input number is odd or even.\n",
    "# A number is even if division by 2 gives a remainder of 0.\n",
    "# If the remainder is 1, it is an odd number.\n",
    "\n",
    "num = int(input(\"Enter a number: \"))\n",
    "if (num % 2) == 0:\n",
    "   print(\"{0} is Even\".format(num))\n",
    "else:\n",
    "   print(\"{0} is Odd\".format(num))"
   ]
  },
  {
   "cell_type": "code",
   "execution_count": null,
   "id": "533f3243",
   "metadata": {},
   "outputs": [],
   "source": [
    "# Program to check if a number is prime or not\n",
    "\n",
    "#num = 12\n",
    "\n",
    "# To take input from the user\n",
    "num = int(input(\"Enter a number: \"))\n",
    "\n",
    "# define a flag variable\n",
    "flag = False\n",
    "\n",
    "# prime numbers are greater than 1\n",
    "if num > 1:\n",
    "    # check for factors\n",
    "    for i in range(2, num):\n",
    "        if (num % i) == 0:\n",
    "            # if factor is found, set flag to True\n",
    "            flag = True\n",
    "            # break out of loop\n",
    "            break\n",
    "\n",
    "# check if flag is True\n",
    "if flag:\n",
    "    print(num, \"is not a prime number\")\n",
    "else:\n",
    "    print(num, \"is a prime number\")"
   ]
  },
  {
   "cell_type": "code",
   "execution_count": null,
   "id": "0fee8467",
   "metadata": {},
   "outputs": [],
   "source": [
    "# Program to check if a number is prime or not\n",
    "\n",
    "#num = 12\n",
    "\n",
    "# To take input from the user\n",
    "num = int(input(\"Enter a number: \"))\n",
    "\n",
    "# define a flag variable\n",
    "flag = False\n",
    "\n",
    "# prime numbers are greater than 1\n",
    "if num > 1:\n",
    "    # check for factors\n",
    "    for i in range(2, num):\n",
    "        if (num % i) == 0:\n",
    "            # if factor is found, set flag to True\n",
    "            flag = True\n",
    "            # break out of loop\n",
    "            break\n",
    "\n",
    "# check if flag is True\n",
    "if flag:\n",
    "    print(num, \"is not a prime number\")\n",
    "else:\n",
    "    print(num, \"is a prime number\")"
   ]
  },
  {
   "cell_type": "code",
   "execution_count": null,
   "id": "f1b77676",
   "metadata": {},
   "outputs": [],
   "source": [
    "# Python program to check if the number is an Armstrong number or not\n",
    "\n",
    "# take input from the user\n",
    "num = int(input(\"Enter a number: \"))\n",
    "\n",
    "# initialize sum\n",
    "sum = 0\n",
    "\n",
    "# find the sum of the cube of each digit\n",
    "temp = num\n",
    "while temp > 0:\n",
    "   digit = temp % 10\n",
    "   sum += digit ** 3\n",
    "   temp //= 10\n",
    "\n",
    "# display the result\n",
    "if num == sum:\n",
    "   print(num,\"is an Armstrong number\")\n",
    "else:\n",
    "   print(num,\"is not an Armstrong number\")\n"
   ]
  },
  {
   "cell_type": "code",
   "execution_count": 15,
   "id": "ee835410",
   "metadata": {},
   "outputs": [
    {
     "name": "stdout",
     "output_type": "stream",
     "text": [
      "Enter the integer number: 12546\n",
      "The reverse number is : 64521\n"
     ]
    }
   ],
   "source": [
    "# Ask for enter the number from the use  \n",
    "number = int(input(\"Enter the integer number: \"))  \n",
    "  \n",
    "# Initiate value to null  \n",
    "revs_number = 0  \n",
    "  \n",
    "# reverse the integer number using the while loop  \n",
    "  \n",
    "while (number > 0):  \n",
    "    # Logic  \n",
    "    remainder = number % 10  \n",
    "    revs_number = (revs_number * 10) + remainder  \n",
    "    number = number // 10  \n",
    "  \n",
    "# Display the result  \n",
    "print(\"The reverse number is : {}\".format(revs_number))  "
   ]
  },
  {
   "cell_type": "code",
   "execution_count": 19,
   "id": "cd47eda8",
   "metadata": {},
   "outputs": [
    {
     "name": "stdout",
     "output_type": "stream",
     "text": [
      "Enter an integer number: 12\n",
      "Square of 12 is 144 \n"
     ]
    }
   ],
   "source": [
    "# Python program to calculate square of a number\n",
    "# Method 1 (using  number*number)\n",
    "\n",
    "# input a number \n",
    "number = int (input (\"Enter an integer number: \"))\n",
    "\n",
    "# calculate square\n",
    "square = number*number\n",
    "\n",
    "# print\n",
    "print(\"Square of {0} is {1} \".format (number, square))\n"
   ]
  },
  {
   "cell_type": "code",
   "execution_count": 20,
   "id": "9dc0cc61",
   "metadata": {},
   "outputs": [
    {
     "name": "stdout",
     "output_type": "stream",
     "text": [
      "Enter the first number: 123\n",
      "Enter the second number: 12\n",
      "123 is greater\n"
     ]
    }
   ],
   "source": [
    "# Python program to return maximum of two numbers\n",
    "\n",
    "# Getting input from user\n",
    "num1 = int(input(\"Enter the first number: \"))\n",
    "num2 = int(input(\"Enter the second number: \"))\n",
    "\n",
    "# printing the maximum value\n",
    "if(num1 > num2):\n",
    "  print(num1, \"is greater\")\n",
    "elif(num1 < num2):\n",
    "    print(num2, \"is greater\")\n",
    "else:\n",
    "    print(\"Both are equal\")\n"
   ]
  },
  {
   "cell_type": "code",
   "execution_count": 21,
   "id": "981080a9",
   "metadata": {},
   "outputs": [
    {
     "name": "stdout",
     "output_type": "stream",
     "text": [
      "Enter the num1: 123\n",
      "Enter the num2: 13\n",
      "The maximum of all values is 123\n"
     ]
    }
   ],
   "source": [
    "# Python program to return maximum of two numbers\n",
    "\n",
    "# Getting input from user\n",
    "num1 = int(input(\"Enter the num1: \"))\n",
    "num2 = int(input(\"Enter the num2: \"))\n",
    "\n",
    "# printing the maximum value\n",
    "maxVal = max(num1, num2)\n",
    "print(\"The maximum of all values is\", maxVal)\n"
   ]
  },
  {
   "cell_type": "code",
   "execution_count": 8,
   "id": "33563488",
   "metadata": {},
   "outputs": [
    {
     "name": "stdout",
     "output_type": "stream",
     "text": [
      "Enter radius of the circle: 5\n",
      "The area of circle is 78.5\n",
      "The perimeter of circle is 31.400000000000002\n"
     ]
    }
   ],
   "source": [
    "# Python program to find the \n",
    "# area and perimeter of circle in python\n",
    "\n",
    "# Initialising the value of PI\n",
    "PI = 3.14\n",
    "# Getting input from user\n",
    "R = float(input(\"Enter radius of the circle: \"))\n",
    "\n",
    "# Finding the area and perimeter of the circle\n",
    "area = (PI*R*R)\n",
    "perimeter = (2*PI*R)\n",
    "\n",
    "# Printing the area and perimeter of the circle \n",
    "print(\"The area of circle is\", area)\n",
    "print(\"The perimeter of circle is\", perimeter)\n"
   ]
  },
  {
   "cell_type": "code",
   "execution_count": 25,
   "id": "5a7c9088",
   "metadata": {},
   "outputs": [
    {
     "name": "stdout",
     "output_type": "stream",
     "text": [
      "Enter the value of year: 2004\n",
      "The given year is a leap year.\n"
     ]
    }
   ],
   "source": [
    "# importing the module\n",
    "import calendar\n",
    "\n",
    "# input the year \n",
    "year=int(input('Enter the value of year: '))\n",
    "leap_year=calendar.isleap(year)\n",
    "\n",
    "# checking leap year\n",
    "if leap_year: # to check condition\n",
    "    print('The given year is a leap year.')\n",
    "else:\n",
    "    print('The given year is a non-leap year.')\n"
   ]
  },
  {
   "cell_type": "code",
   "execution_count": 24,
   "id": "80cfdb1b",
   "metadata": {},
   "outputs": [
    {
     "name": "stdout",
     "output_type": "stream",
     "text": [
      "Enter the value of year: 2004\n",
      "The given year is a leap year.\n"
     ]
    }
   ],
   "source": [
    "# input the year\n",
    "y=int(input('Enter the value of year: '))\n",
    "\n",
    "# To check for non century year\n",
    "if y%400==0 or y%4==0 and y%100!=0: \n",
    "    print('The given year is a leap year.')\n",
    "else:\n",
    "    print('The given year is a non-leap year.')\n"
   ]
  },
  {
   "cell_type": "code",
   "execution_count": 28,
   "id": "35423100",
   "metadata": {},
   "outputs": [
    {
     "name": "stdout",
     "output_type": "stream",
     "text": [
      "Enter the principle amount : 100000\n",
      "Enter the rate of interest : 36\n",
      "Enter the time in the years: 2\n",
      "Principle amount:  100000.0\n",
      "Interest rate   :  36.0\n",
      "Time in years   :  2.0\n",
      "Simple Interest :  72000.0\n"
     ]
    }
   ],
   "source": [
    "# Python program to find simple interest \n",
    "\n",
    "p = float(input(\"Enter the principle amount : \"))\n",
    "r = float(input(\"Enter the rate of interest : \"))\n",
    "t = float(input(\"Enter the time in the years: \"))\n",
    "\n",
    "# calculating simple interest\n",
    "si = (p*r*t)/100\n",
    "\n",
    "# printing the values\n",
    "print(\"Principle amount: \", p)\n",
    "print(\"Interest rate   : \", r)\n",
    "print(\"Time in years   : \", t)\n",
    "print(\"Simple Interest : \", si)\n"
   ]
  },
  {
   "cell_type": "code",
   "execution_count": 29,
   "id": "7b373fba",
   "metadata": {},
   "outputs": [
    {
     "name": "stdout",
     "output_type": "stream",
     "text": [
      "Enter the principle amount : 100000\n",
      "Enter the rate of interest : 36\n",
      "Enter the time in the years: 2\n",
      "Principle amount  :  100000.0\n",
      "Interest rate     :  36.0\n",
      "Time in years     :  2.0\n",
      "compound Interest :  184959.99999999997\n"
     ]
    }
   ],
   "source": [
    "# Python program to find compound interest \n",
    "\n",
    "p = float(input(\"Enter the principle amount : \"))\n",
    "r = float(input(\"Enter the rate of interest : \"))\n",
    "t = float(input(\"Enter the time in the years: \"))\n",
    "\n",
    "# calculating compound interest\n",
    "ci =  p * (pow((1 + r / 100), t)) \n",
    "\n",
    "# printing the values\n",
    "print(\"Principle amount  : \", p)\n",
    "print(\"Interest rate     : \", r)\n",
    "print(\"Time in years     : \", t)\n",
    "print(\"compound Interest : \", ci)\n"
   ]
  },
  {
   "cell_type": "code",
   "execution_count": 5,
   "id": "966fe405",
   "metadata": {},
   "outputs": [
    {
     "name": "stdout",
     "output_type": "stream",
     "text": [
      "Enter Sale Amount: 4999\n",
      "Discount :  249.95000000000002\n",
      "Net Pay  :  4749.05\n"
     ]
    }
   ],
   "source": [
    "# input sale amount\n",
    "amt = int(input(\"Enter Sale Amount: \"))\n",
    "\n",
    "# checking conditions and calculating discount\n",
    "if(amt>0):\n",
    "    if amt<=5000:\n",
    "       disc = amt*0.05\n",
    "    elif amt<=15000:\n",
    "        disc=amt*0.12\n",
    "    elif amt<=25000:\n",
    "        disc=0.2 * amt\n",
    "    else:\n",
    "         disc=0.3 * amt\n",
    "\n",
    "    print(\"Discount : \",disc)\n",
    "    print(\"Net Pay  : \",amt-disc)\n",
    "else:\n",
    "    print(\"Invalid Amount\")\n"
   ]
  },
  {
   "cell_type": "code",
   "execution_count": 36,
   "id": "2343624e",
   "metadata": {},
   "outputs": [
    {
     "name": "stdout",
     "output_type": "stream",
     "text": [
      "7\n",
      "14\n",
      "21\n",
      "28\n",
      "42\n",
      "49\n",
      "56\n",
      "63\n",
      "77\n",
      "84\n",
      "91\n",
      "98\n",
      "112\n",
      "119\n",
      "126\n",
      "133\n",
      "147\n",
      "154\n",
      "161\n",
      "168\n",
      "182\n",
      "189\n",
      "196\n",
      "203\n",
      "217\n",
      "224\n",
      "231\n",
      "238\n",
      "252\n",
      "259\n",
      "266\n",
      "273\n",
      "287\n",
      "294\n",
      "301\n",
      "308\n",
      "322\n",
      "329\n",
      "336\n",
      "343\n",
      "357\n",
      "364\n",
      "371\n",
      "378\n",
      "392\n",
      "399\n",
      "406\n",
      "413\n",
      "427\n",
      "434\n",
      "441\n",
      "448\n",
      "462\n",
      "469\n",
      "476\n",
      "483\n",
      "497\n",
      "504\n",
      "511\n",
      "518\n",
      "532\n",
      "539\n",
      "546\n",
      "553\n",
      "567\n",
      "574\n",
      "581\n",
      "588\n",
      "602\n",
      "609\n",
      "616\n",
      "623\n",
      "637\n",
      "644\n",
      "651\n",
      "658\n",
      "672\n",
      "679\n",
      "686\n",
      "693\n",
      "707\n",
      "714\n",
      "721\n",
      "728\n",
      "742\n",
      "749\n",
      "756\n",
      "763\n",
      "777\n",
      "784\n",
      "791\n",
      "798\n",
      "812\n",
      "819\n",
      "826\n",
      "833\n",
      "847\n",
      "854\n",
      "861\n",
      "868\n",
      "882\n",
      "889\n",
      "896\n",
      "903\n",
      "917\n",
      "924\n",
      "931\n",
      "938\n",
      "952\n",
      "959\n",
      "966\n",
      "973\n",
      "987\n",
      "994\n"
     ]
    }
   ],
   "source": [
    "# define range in variables\n",
    "# so that we can change them anytime\n",
    "begin \t= 1 \n",
    "end \t= 1000\n",
    "\n",
    "# loop to check and print the numbers\n",
    "# which are divisible by 7 and not \n",
    "# divisible by 5\n",
    "for cnt in range(begin, end+1):\n",
    "\tif( cnt%7==0 and cnt%5!=0 ):\n",
    "\t\tprint( cnt,) # command after cnt will print space\n"
   ]
  },
  {
   "cell_type": "code",
   "execution_count": 38,
   "id": "64bb4d4a",
   "metadata": {},
   "outputs": [
    {
     "name": "stdout",
     "output_type": "stream",
     "text": [
      "type of the variables...\n",
      "type of a:  <class 'int'>\n",
      "type of b:  <class 'int'>\n",
      "type of c:  <class 'int'>\n",
      "type of d:  <class 'int'>\n",
      "type of e:  <class 'int'>\n",
      "value of the variables in decimal format...\n",
      "value of a:  10\n",
      "value of b:  0\n",
      "value of c:  255\n",
      "value of d:  240\n",
      "value of e:  170\n",
      "value of the variables in binary format...\n",
      "value of a:  0b1010\n",
      "value of b:  0b0\n",
      "value of c:  0b11111111\n",
      "value of d:  0b11110000\n",
      "value of e:  0b10101010\n"
     ]
    }
   ],
   "source": [
    "# Python code to create variable \n",
    "# by assigning binary value \n",
    "\n",
    "# creating number variable\n",
    "# and, assigning binary value\n",
    "a = 0b1010\n",
    "b = 0b00000000\n",
    "c = 0b11111111\n",
    "d = 0b11110000\n",
    "e = 0b10101010\n",
    "\n",
    "# printing types\n",
    "print(\"type of the variables...\")\n",
    "print(\"type of a: \", type(a))\n",
    "print(\"type of b: \", type(b))\n",
    "print(\"type of c: \", type(c))\n",
    "print(\"type of d: \", type(d))\n",
    "print(\"type of e: \", type(e))\n",
    "\n",
    "# printing values in decimal format\n",
    "print(\"value of the variables in decimal format...\")\n",
    "print(\"value of a: \", a)\n",
    "print(\"value of b: \", b)\n",
    "print(\"value of c: \", c)\n",
    "print(\"value of d: \", d)\n",
    "print(\"value of e: \", e)\n",
    "\n",
    "# printing values in binary format\n",
    "print(\"value of the variables in binary format...\")\n",
    "print(\"value of a: \", bin(a))\n",
    "print(\"value of b: \", bin(b))\n",
    "print(\"value of c: \", bin(c))\n",
    "print(\"value of d: \", bin(d))\n",
    "print(\"value of e: \", bin(e))\n"
   ]
  },
  {
   "cell_type": "code",
   "execution_count": 7,
   "id": "5f833f5d",
   "metadata": {},
   "outputs": [
    {
     "name": "stdout",
     "output_type": "stream",
     "text": [
      "Enter the number of which the user wants to print the multiplication table: 8\n",
      "The Multiplication Table of:  8\n",
      "8 x 1 = 8\n",
      "8 x 2 = 16\n",
      "8 x 3 = 24\n",
      "8 x 4 = 32\n",
      "8 x 5 = 40\n",
      "8 x 6 = 48\n",
      "8 x 7 = 56\n",
      "8 x 8 = 64\n",
      "8 x 9 = 72\n",
      "8 x 10 = 80\n",
      "8 x 11 = 88\n",
      "8 x 12 = 96\n",
      "8 x 13 = 104\n",
      "8 x 14 = 112\n",
      "8 x 15 = 120\n",
      "8 x 16 = 128\n",
      "8 x 17 = 136\n",
      "8 x 18 = 144\n",
      "8 x 19 = 152\n"
     ]
    }
   ],
   "source": [
    "number = int(input (\"Enter the number of which the user wants to print the multiplication table: \"))      \n",
    "# We are using \"for loop\" to iterate the multiplication 10 times       \n",
    "print (\"The Multiplication Table of: \", number)    \n",
    "for count in range(1, 20):      \n",
    "   print (number, 'x', count, '=', number * count)   "
   ]
  },
  {
   "cell_type": "code",
   "execution_count": null,
   "id": "f6001fc5",
   "metadata": {},
   "outputs": [],
   "source": []
  }
 ],
 "metadata": {
  "kernelspec": {
   "display_name": "Python 3 (ipykernel)",
   "language": "python",
   "name": "python3"
  },
  "language_info": {
   "codemirror_mode": {
    "name": "ipython",
    "version": 3
   },
   "file_extension": ".py",
   "mimetype": "text/x-python",
   "name": "python",
   "nbconvert_exporter": "python",
   "pygments_lexer": "ipython3",
   "version": "3.9.12"
  }
 },
 "nbformat": 4,
 "nbformat_minor": 5
}
