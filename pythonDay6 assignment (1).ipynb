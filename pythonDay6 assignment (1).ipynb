{
 "cells": [
  {
   "cell_type": "code",
   "execution_count": 1,
   "id": "fafb670a",
   "metadata": {},
   "outputs": [
    {
     "name": "stdout",
     "output_type": "stream",
     "text": [
      "True\n"
     ]
    }
   ],
   "source": [
    "x=3*3\n",
    "y=3**2\n",
    "print (x==y)"
   ]
  },
  {
   "cell_type": "code",
   "execution_count": 8,
   "id": "27e9999a",
   "metadata": {},
   "outputs": [
    {
     "name": "stdout",
     "output_type": "stream",
     "text": [
      "Enter the number:45\n",
      "Enter the number:46\n",
      "%0.2f the a value is %0.2f 45\n"
     ]
    }
   ],
   "source": [
    "#if condition program\n",
    "a=int(input(\"Enter the number:\"))\n",
    "b=int(input(\"Enter the number:\"))\n",
    "if(a<b):\n",
    "    print(\"%0.2f the a value is %0.2f\",a)\n",
    "    "
   ]
  },
  {
   "cell_type": "code",
   "execution_count": 7,
   "id": "423b559a",
   "metadata": {},
   "outputs": [
    {
     "name": "stdout",
     "output_type": "stream",
     "text": [
      "Enter the a value:45\n",
      "Enter the b value:45\n",
      "The value of a and b are same 45 45\n"
     ]
    }
   ],
   "source": [
    "a=int(input(\"Enter the a value:\"))\n",
    "b=int(input(\"Enter the b value:\"))\n",
    "if(a==b and b==a):\n",
    "    print(\"The value of a and b are same\",a,b)"
   ]
  },
  {
   "cell_type": "code",
   "execution_count": 1,
   "id": "904c9d1e",
   "metadata": {},
   "outputs": [
    {
     "name": "stdout",
     "output_type": "stream",
     "text": [
      "2 is not Zero\n",
      "This is another statement\n",
      "Yet the value of a is 2\n"
     ]
    }
   ],
   "source": [
    "a = 2\n",
    "if a:\n",
    "    print(a, \"is not Zero\")\n",
    "    print(\"This is another statement\")\n",
    "    print(\"Yet the value of a is\",a)"
   ]
  },
  {
   "cell_type": "code",
   "execution_count": 14,
   "id": "2bcd7685",
   "metadata": {},
   "outputs": [
    {
     "name": "stdout",
     "output_type": "stream",
     "text": [
      "8 is the largest number\n"
     ]
    }
   ],
   "source": [
    "# if else program\n",
    "a=8\n",
    "b=7\n",
    "if a>b:\n",
    "    print(a, \"is the largest number\")\n",
    "else:\n",
    "    print(b, \"is the largest number\")\n",
    "    "
   ]
  },
  {
   "cell_type": "code",
   "execution_count": 15,
   "id": "86be58d9",
   "metadata": {},
   "outputs": [
    {
     "name": "stdout",
     "output_type": "stream",
     "text": [
      "2 is less than 4\n",
      "5 is not less than 4\n"
     ]
    }
   ],
   "source": [
    "#Nested if program\n",
    "a = 2\n",
    "b = 4\n",
    "c = 5\n",
    "\n",
    "if a<b:\n",
    "\tprint(a, 'is less than', b)\n",
    "\tif c<b:\n",
    "\t\tprint(c, 'is less than', b)\n",
    "\telse:\n",
    "\t\tprint(c, 'is not less than', b)\n",
    "else:\n",
    "\tprint(a, 'is not less than', b)"
   ]
  },
  {
   "cell_type": "code",
   "execution_count": 16,
   "id": "9e0eac87",
   "metadata": {},
   "outputs": [
    {
     "name": "stdout",
     "output_type": "stream",
     "text": [
      "2 is in (0,5)\n"
     ]
    }
   ],
   "source": [
    "#elif program\n",
    "a = 2\n",
    "\n",
    "if a<0:\n",
    "\tprint(a, 'is negative')\n",
    "nelif a==0:\n",
    "\tprint('its a 0')\n",
    "elif a>0 and a<5:\n",
    "\tprint(a, 'is in (0,5)')\n",
    "else:\n",
    "\tprint(a, 'equals or greater than 5')\n",
    " "
   ]
  },
  {
   "cell_type": "code",
   "execution_count": null,
   "id": "e813ff85",
   "metadata": {},
   "outputs": [],
   "source": []
  }
 ],
 "metadata": {
  "kernelspec": {
   "display_name": "Python 3 (ipykernel)",
   "language": "python",
   "name": "python3"
  },
  "language_info": {
   "codemirror_mode": {
    "name": "ipython",
    "version": 3
   },
   "file_extension": ".py",
   "mimetype": "text/x-python",
   "name": "python",
   "nbconvert_exporter": "python",
   "pygments_lexer": "ipython3",
   "version": "3.9.12"
  }
 },
 "nbformat": 4,
 "nbformat_minor": 5
}
