{
 "cells": [
  {
   "cell_type": "code",
   "execution_count": 1,
   "id": "64dde0b9",
   "metadata": {},
   "outputs": [
    {
     "name": "stdout",
     "output_type": "stream",
     "text": [
      "['p', 'y', 't', 'h', 'o', 'n']\n"
     ]
    }
   ],
   "source": [
    "#python quiz\n",
    "my_list=[]\n",
    "my_list+=\"python\"\n",
    "print(my_list)"
   ]
  },
  {
   "cell_type": "code",
   "execution_count": 5,
   "id": "6ea4edab",
   "metadata": {},
   "outputs": [
    {
     "name": "stdout",
     "output_type": "stream",
     "text": [
      "['p', 'y', 't', 'h', 'o', 'n']\n"
     ]
    }
   ],
   "source": [
    "#python quiz\n",
    "my_list=[]\n",
    "my_list += 'python'\n",
    "print(my_list)"
   ]
  },
  {
   "cell_type": "code",
   "execution_count": 6,
   "id": "f977eeb8",
   "metadata": {},
   "outputs": [
    {
     "data": {
      "text/plain": [
       "True"
      ]
     },
     "execution_count": 6,
     "metadata": {},
     "output_type": "execute_result"
    }
   ],
   "source": [
    "#and or operations\n",
    "((5>96)and(5==8))or((5<22)or(9>4))"
   ]
  },
  {
   "cell_type": "code",
   "execution_count": 7,
   "id": "289bf3ca",
   "metadata": {},
   "outputs": [
    {
     "data": {
      "text/plain": [
       "[False]"
      ]
     },
     "execution_count": 7,
     "metadata": {},
     "output_type": "execute_result"
    }
   ],
   "source": [
    "# and or operations\n",
    "[(6<97)or(76>87)]and[(5>32)or(43<7)]"
   ]
  },
  {
   "cell_type": "code",
   "execution_count": 9,
   "id": "20a8e6bd",
   "metadata": {},
   "outputs": [
    {
     "data": {
      "text/plain": [
       "[False]"
      ]
     },
     "execution_count": 9,
     "metadata": {},
     "output_type": "execute_result"
    }
   ],
   "source": [
    "# and or operations\n",
    "[(97<65)or(67>89)]and[(98<90)and(97<56)]"
   ]
  },
  {
   "cell_type": "code",
   "execution_count": 10,
   "id": "9af4480f",
   "metadata": {},
   "outputs": [
    {
     "name": "stdout",
     "output_type": "stream",
     "text": [
      "[False]\n"
     ]
    }
   ],
   "source": [
    "#and or operations\n",
    "a=[(32>75)and(45<32)]and[(23==44)and(34<45)]\n",
    "print(a)"
   ]
  },
  {
   "cell_type": "code",
   "execution_count": 11,
   "id": "588bd06e",
   "metadata": {},
   "outputs": [
    {
     "name": "stdout",
     "output_type": "stream",
     "text": [
      "False\n"
     ]
    }
   ],
   "source": [
    "#and or operations\n",
    "a=((78==23)and(34<56))or((23==45)and(67>34))\n",
    "print(a)"
   ]
  },
  {
   "cell_type": "code",
   "execution_count": 16,
   "id": "2581cad4",
   "metadata": {},
   "outputs": [],
   "source": [
    "#list insert operation\n",
    "List=[];\n",
    "List.insert(0,3);\n",
    "List.insert(1,10);\n"
   ]
  },
  {
   "cell_type": "code",
   "execution_count": 17,
   "id": "88875994",
   "metadata": {},
   "outputs": [
    {
     "name": "stdout",
     "output_type": "stream",
     "text": [
      "[3, 10]\n"
     ]
    }
   ],
   "source": [
    "#print the list\n",
    "print(List)"
   ]
  },
  {
   "cell_type": "code",
   "execution_count": 18,
   "id": "c2062af2",
   "metadata": {},
   "outputs": [],
   "source": [
    "#List insert operation\n",
    "List.insert(2,8);\n",
    "List.insert(3,7);\n",
    "List.insert(2,8);\n",
    "List.insert(1,5);"
   ]
  },
  {
   "cell_type": "code",
   "execution_count": 19,
   "id": "dc5c1fa8",
   "metadata": {},
   "outputs": [
    {
     "name": "stdout",
     "output_type": "stream",
     "text": [
      "[3, 5, 10, 8, 8, 7]\n"
     ]
    }
   ],
   "source": [
    "#print the list\n",
    "print(List)"
   ]
  },
  {
   "cell_type": "code",
   "execution_count": 23,
   "id": "9424ea7b",
   "metadata": {},
   "outputs": [
    {
     "name": "stdout",
     "output_type": "stream",
     "text": [
      "[5, 6, 9, 10, 0]\n"
     ]
    }
   ],
   "source": [
    "#List insert operation\n",
    "My_list=[];\n",
    "My_list.insert(1,5);\n",
    "My_list.insert(2,6);\n",
    "My_list.insert(3,9);\n",
    "My_list.insert(4,10);\n",
    "My_list.insert(5,0);\n",
    "print(My_list);"
   ]
  },
  {
   "cell_type": "code",
   "execution_count": 24,
   "id": "09710077",
   "metadata": {},
   "outputs": [
    {
     "name": "stdout",
     "output_type": "stream",
     "text": [
      "[3, 5, 10, 8, 8, 7, 5, 6, 9, 10, 0]\n"
     ]
    }
   ],
   "source": [
    "#Merging two lists\n",
    "print(List+My_list);"
   ]
  },
  {
   "cell_type": "code",
   "execution_count": 26,
   "id": "c0ebe203",
   "metadata": {},
   "outputs": [
    {
     "name": "stdout",
     "output_type": "stream",
     "text": [
      "[4, 6, 8]\n",
      "[3, 5, 10, 8, 8, 7]\n",
      "[5, 6, 9, 10, 0]\n",
      "[4, 6, 8, 3, 5, 10, 8, 8, 7, 5, 6, 9, 10, 0]\n"
     ]
    }
   ],
   "source": [
    "#Merging lists\n",
    "List1=[];\n",
    "List1.insert(0,4);\n",
    "List1.insert(3,6);\n",
    "List1.insert(4,8);\n",
    "print(List1);\n",
    "print(List);\n",
    "print(My_list);\n",
    "print(List1+List+My_list);"
   ]
  },
  {
   "cell_type": "code",
   "execution_count": 27,
   "id": "1046b0d9",
   "metadata": {},
   "outputs": [],
   "source": [
    "#List insert operations\n",
    "List2=[];\n",
    "List2.insert(0,'a');\n",
    "List2.insert(1,'r');\n",
    "List2.insert(3,'r');\n",
    "List2.insert(3,'u');"
   ]
  },
  {
   "cell_type": "code",
   "execution_count": 28,
   "id": "8a1a5282",
   "metadata": {},
   "outputs": [
    {
     "name": "stdout",
     "output_type": "stream",
     "text": [
      "['a', 'r', 'r', 'u']\n"
     ]
    }
   ],
   "source": [
    "#print list\n",
    "print(List2);"
   ]
  },
  {
   "cell_type": "code",
   "execution_count": 33,
   "id": "aecb114d",
   "metadata": {},
   "outputs": [],
   "source": [
    "#Insert operation\n",
    "List2.insert(0,'a');"
   ]
  },
  {
   "cell_type": "code",
   "execution_count": 34,
   "id": "13bb5084",
   "metadata": {},
   "outputs": [
    {
     "name": "stdout",
     "output_type": "stream",
     "text": [
      "['a', 'a', 'r', 'r', 'u', 4, 6, 8]\n"
     ]
    }
   ],
   "source": [
    "#print list\n",
    "print(List2+List1);"
   ]
  },
  {
   "cell_type": "code",
   "execution_count": 35,
   "id": "881da7c4",
   "metadata": {},
   "outputs": [
    {
     "name": "stdout",
     "output_type": "stream",
     "text": [
      "['a', 'a', 'r', 'r']\n"
     ]
    }
   ],
   "source": [
    "#remove list\n",
    "List2.remove('u');\n",
    "print(List2);"
   ]
  },
  {
   "cell_type": "code",
   "execution_count": 40,
   "id": "54d6f823",
   "metadata": {},
   "outputs": [
    {
     "name": "stdout",
     "output_type": "stream",
     "text": [
      "[4, 8]\n"
     ]
    }
   ],
   "source": [
    "#remove list\n",
    "List1.remove(6);\n",
    "print(List1);"
   ]
  },
  {
   "cell_type": "code",
   "execution_count": 41,
   "id": "7fea1375",
   "metadata": {},
   "outputs": [],
   "source": [
    "#extend opeartion\n",
    "List1.insert(3,7);"
   ]
  },
  {
   "cell_type": "code",
   "execution_count": 42,
   "id": "be693b41",
   "metadata": {},
   "outputs": [
    {
     "name": "stdout",
     "output_type": "stream",
     "text": [
      "['a', 'a', 'r', 'r', 4, 8, 7]\n"
     ]
    }
   ],
   "source": [
    "#extend operation\n",
    "List2.extend(List1);\n",
    "print(List2);"
   ]
  },
  {
   "cell_type": "code",
   "execution_count": 43,
   "id": "978b9f8e",
   "metadata": {},
   "outputs": [
    {
     "name": "stdout",
     "output_type": "stream",
     "text": [
      "[5, 6, 9, 10, 0, 4, 8, 7]\n"
     ]
    }
   ],
   "source": [
    "#extend operation\n",
    "My_list.extend(List1);\n",
    "print(My_list);"
   ]
  },
  {
   "cell_type": "code",
   "execution_count": 44,
   "id": "105a20c4",
   "metadata": {},
   "outputs": [
    {
     "name": "stdout",
     "output_type": "stream",
     "text": [
      "[8, 7, 6, 5, 4, 3, 2, 1]\n"
     ]
    }
   ],
   "source": [
    "#Reverse operation\n",
    "list1=[1,2,3,4,5,6,7,8];\n",
    "list1.reverse();\n",
    "print(list1);"
   ]
  },
  {
   "cell_type": "code",
   "execution_count": 47,
   "id": "0b4ab3ca",
   "metadata": {},
   "outputs": [
    {
     "name": "stdout",
     "output_type": "stream",
     "text": [
      "['w', 'q', 5, 4, 3, 8, 7, 6, 5, 4, 3, 2, 1]\n"
     ]
    }
   ],
   "source": [
    "#Reverse operation\n",
    "list3=[1,2,3,4,5,6,7,8,3,4,5,'q','w'];\n",
    "list3.reverse();\n",
    "print(list3);"
   ]
  },
  {
   "cell_type": "code",
   "execution_count": 54,
   "id": "39f47201",
   "metadata": {},
   "outputs": [
    {
     "name": "stdout",
     "output_type": "stream",
     "text": [
      "[1, 2, 3, 3, 4, 4, 5, 5, 6, 7, 8]\n"
     ]
    }
   ],
   "source": [
    "#sort operation\n",
    "list3=[1,2,3,4,5,6,7,8,3,4,5];\n",
    "sort_list3=sorted(list3);\n",
    "print(sort_list3);"
   ]
  },
  {
   "cell_type": "code",
   "execution_count": 55,
   "id": "d0d26d27",
   "metadata": {},
   "outputs": [
    {
     "name": "stdout",
     "output_type": "stream",
     "text": [
      "['a', 'e', 'r', 's', 't', 'y']\n"
     ]
    }
   ],
   "source": [
    "#sort operations\n",
    "List3=['a','s','r','t','y','e',];\n",
    "sort_List3=sorted(List3);\n",
    "print(sort_List3);"
   ]
  },
  {
   "cell_type": "code",
   "execution_count": 56,
   "id": "46a620d8",
   "metadata": {},
   "outputs": [
    {
     "name": "stdout",
     "output_type": "stream",
     "text": [
      "2550146480576\n",
      "2550146536192\n"
     ]
    }
   ],
   "source": [
    "#memory location address\n",
    "List3=['g','c','e'];\n",
    "print(id(List3));\n",
    "print(id(list3));"
   ]
  },
  {
   "cell_type": "code",
   "execution_count": 58,
   "id": "05129ee8",
   "metadata": {},
   "outputs": [
    {
     "name": "stdout",
     "output_type": "stream",
     "text": [
      "[4]\n"
     ]
    }
   ],
   "source": [
    "#slicing operation\n",
    "print(List1[0:1]);\n",
    " "
   ]
  },
  {
   "cell_type": "code",
   "execution_count": 59,
   "id": "de121518",
   "metadata": {},
   "outputs": [
    {
     "name": "stdout",
     "output_type": "stream",
     "text": [
      "['g', 'c', 'e']\n"
     ]
    }
   ],
   "source": [
    "#slicing operation\n",
    "print(List3[0:4]);"
   ]
  },
  {
   "cell_type": "code",
   "execution_count": 60,
   "id": "de5835e9",
   "metadata": {},
   "outputs": [
    {
     "name": "stdout",
     "output_type": "stream",
     "text": [
      "[6, 3]\n"
     ]
    }
   ],
   "source": [
    "# step size [start:end:stepsize]\n",
    "print(list1[2:10:3]);"
   ]
  },
  {
   "cell_type": "code",
   "execution_count": 61,
   "id": "7410729c",
   "metadata": {},
   "outputs": [
    {
     "name": "stdout",
     "output_type": "stream",
     "text": [
      "[3, 7]\n"
     ]
    }
   ],
   "source": [
    "# step size [start:end:stepsize]\n",
    "print(list3[2:10:4]);"
   ]
  },
  {
   "cell_type": "code",
   "execution_count": 62,
   "id": "677f21f0",
   "metadata": {},
   "outputs": [
    {
     "name": "stdout",
     "output_type": "stream",
     "text": [
      "[7]\n"
     ]
    }
   ],
   "source": [
    "# step size [start:end:stepsize]\n",
    "print(List1[2:6:3]);"
   ]
  },
  {
   "cell_type": "code",
   "execution_count": 68,
   "id": "d87eb6bd",
   "metadata": {},
   "outputs": [
    {
     "name": "stdout",
     "output_type": "stream",
     "text": [
      "['lear', 'i', 'g']\n"
     ]
    }
   ],
   "source": [
    "# splitting\n",
    "s=\"learning\"\n",
    "list1=s.split('n');\n",
    "print(list1);"
   ]
  },
  {
   "cell_type": "code",
   "execution_count": 70,
   "id": "129e0b3f",
   "metadata": {},
   "outputs": [
    {
     "name": "stdout",
     "output_type": "stream",
     "text": [
      "['sh', ' is my sist', 'r']\n"
     ]
    }
   ],
   "source": [
    "#splitting\n",
    "b=\"she is my sister\"\n",
    "c=b.split('e');\n",
    "print(c);\n"
   ]
  },
  {
   "cell_type": "code",
   "execution_count": 73,
   "id": "8a9b0621",
   "metadata": {},
   "outputs": [
    {
     "name": "stdout",
     "output_type": "stream",
     "text": [
      "['The ', ' Wikipedia is, along with the Simple ', ' Wikipedia, one of two ', '-language editions of Wikipedia, an online encloypedid']\n"
     ]
    }
   ],
   "source": [
    "#splitting\n",
    "s=\"The English Wikipedia is, along with the Simple English Wikipedia, one of two English-language editions of Wikipedia, an online encloypedid\"\n",
    "list1=s.split('English');\n",
    "print(list1);"
   ]
  },
  {
   "cell_type": "code",
   "execution_count": 78,
   "id": "957b76a8",
   "metadata": {},
   "outputs": [
    {
     "name": "stdout",
     "output_type": "stream",
     "text": [
      "3\n"
     ]
    }
   ],
   "source": [
    "#frequency\n",
    "List1=[1,2,3,4,5,6,3,3,3,5,5,6,6,6,9,9,9,10,10,10,10,10];\n",
    "print(List1.count(9))"
   ]
  },
  {
   "cell_type": "code",
   "execution_count": 76,
   "id": "f857133a",
   "metadata": {},
   "outputs": [
    {
     "name": "stdout",
     "output_type": "stream",
     "text": [
      "4\n"
     ]
    }
   ],
   "source": [
    "#frequency\n",
    "print(List1.count(3))"
   ]
  },
  {
   "cell_type": "code",
   "execution_count": 79,
   "id": "06ced024",
   "metadata": {},
   "outputs": [
    {
     "name": "stdout",
     "output_type": "stream",
     "text": [
      "5\n"
     ]
    }
   ],
   "source": [
    "#frequency\n",
    "print(List1.count(10))"
   ]
  },
  {
   "cell_type": "code",
   "execution_count": 97,
   "id": "e499ff5f",
   "metadata": {},
   "outputs": [
    {
     "name": "stdout",
     "output_type": "stream",
     "text": [
      "11 is a prime number\n"
     ]
    }
   ],
   "source": [
    "num = 11;\n",
    "# If given number is greater than 1\n",
    "if num > 1:\n",
    "    # Iterate from 2 to n / 2\n",
    "    for i in range(2, int(num/2)+1):\n",
    "        # If num is divisible by any number between\n",
    "        # 2 and n / 2, it is not prime\n",
    "        if (num % i) == 0:\n",
    "            print(num, \"is not a prime number\")\n",
    "            break\n",
    "    else:\n",
    "        print(num, \"is a prime number\")\n",
    "else:\n",
    "    print(num, \"is not a prime number\")"
   ]
  },
  {
   "cell_type": "code",
   "execution_count": null,
   "id": "6ff616a2",
   "metadata": {},
   "outputs": [],
   "source": []
  }
 ],
 "metadata": {
  "kernelspec": {
   "display_name": "Python 3 (ipykernel)",
   "language": "python",
   "name": "python3"
  },
  "language_info": {
   "codemirror_mode": {
    "name": "ipython",
    "version": 3
   },
   "file_extension": ".py",
   "mimetype": "text/x-python",
   "name": "python",
   "nbconvert_exporter": "python",
   "pygments_lexer": "ipython3",
   "version": "3.9.12"
  }
 },
 "nbformat": 4,
 "nbformat_minor": 5
}
