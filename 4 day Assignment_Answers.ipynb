{
 "cells": [
  {
   "cell_type": "markdown",
   "id": "1a72342c",
   "metadata": {},
   "source": [
    "# Store is purchasing items"
   ]
  },
  {
   "cell_type": "code",
   "execution_count": 1,
   "id": "246ab227",
   "metadata": {},
   "outputs": [
    {
     "name": "stdout",
     "output_type": "stream",
     "text": [
      "Enter the price of Item 1: 20\n",
      "Enter the price of Item 2: 12\n",
      "Enter the price of Item 3: 5\n",
      "Enter the price of Item 4 :2.54\n",
      "Enter the price of Item 5 :30.41\n",
      "Subtotal of sales :$  69.95\n",
      "Sales tax :$  6.21\n",
      "Total is : $ 76.16\n"
     ]
    }
   ],
   "source": [
    "# enter the purchasing five items\n",
    "item1 = int(input(\"Enter the price of Item 1: \"))\n",
    "item2 = int(input(\"Enter the price of Item 2: \"))\n",
    "item3 = int(input(\"Enter the price of Item 3: \"))\n",
    "item4 = float(input(\"Enter the price of Item 4 :\"))\n",
    "item5 = float(input(\"Enter the price of Item 5 :\"))\n",
    "# sum of the items\n",
    "total = item1+item2+item3+item4+item5\n",
    "print(\"Subtotal of sales :$ \",total)\n",
    "#sales tax caliculation \n",
    "tax_cal = round(total*8.875/100,2)\n",
    "print(\"Sales tax :$ \",tax_cal)\n",
    "# Total caliculation\n",
    "print(\"Total is : $\", total+tax_cal)"
   ]
  },
  {
   "cell_type": "code",
   "execution_count": 3,
   "id": "05e54d33",
   "metadata": {},
   "outputs": [
    {
     "name": "stdout",
     "output_type": "stream",
     "text": [
      "6.208\n"
     ]
    }
   ],
   "source": [
    "x=round(total*8.875/100,3)\n",
    "print(x)"
   ]
  },
  {
   "cell_type": "markdown",
   "id": "4d9abf60",
   "metadata": {},
   "source": [
    "# Employee Salary Calcuation"
   ]
  },
  {
   "cell_type": "code",
   "execution_count": 5,
   "id": "e8c71c3b",
   "metadata": {},
   "outputs": [
    {
     "name": "stdout",
     "output_type": "stream",
     "text": [
      "Enter the your work hours: 43\n",
      "Enter the your pay rate: 15.7\n",
      "Your gross pay: $  1012.65\n"
     ]
    }
   ],
   "source": [
    "Emp_hour =  int(input(\"Enter the your work hours: \"))\n",
    "Emp_Hr_rate = float(input(\"Enter the your pay rate: \"))\n",
    "if(Emp_hour>40):\n",
    "#More than 40 hours   Emp_hour*Emp_Hr_rate * 1.5 times    \n",
    "    print(\"Your gross pay: $ \", round(Emp_hour*Emp_Hr_rate*1.5,2))\n",
    "else:\n",
    "#More less 40 hours   Emp_hour*Emp_Hr_rate      \n",
    "    print(\"Your gross pay: $ \", round(Emp_hour*Emp_Hr_rate,2))\n"
   ]
  },
  {
   "cell_type": "markdown",
   "id": "fb5ff928",
   "metadata": {},
   "source": [
    "# Enter the numbers, to find the biggest number"
   ]
  },
  {
   "cell_type": "code",
   "execution_count": 10,
   "id": "5c76529e",
   "metadata": {},
   "outputs": [
    {
     "name": "stdout",
     "output_type": "stream",
     "text": [
      "Enter first number: 5\n",
      "Enter second number: 5\n",
      "Enter third number: 5\n",
      "Enter four number: 5\n",
      "The largest number is 5\n"
     ]
    }
   ],
   "source": [
    "# Python program to find the largest number among the four input numbers\n",
    "# change the values of num1, num2 , num3 and num4\n",
    "num1 = int(input(\"Enter first number: \"))\n",
    "num2 = int(input(\"Enter second number: \"))\n",
    "num3 = int(input(\"Enter third number: \"))\n",
    "num4 = int(input(\"Enter four number: \"))\n",
    "if(num1 >= num2) and (num1 >= num3) and (num1 >= num4):\n",
    "   largest = num1\n",
    "if(num2 >= num1) and (num2 >= num3) and (num2 >= num4):\n",
    "   largest = num2\n",
    "elif(num3 >= num1) and (num3 >= num2) and (num3 >= num4):\n",
    "   largest = num3\n",
    "else:\n",
    "   largest = num4\n",
    "\n",
    "print(\"The largest number is\", largest)"
   ]
  },
  {
   "cell_type": "code",
   "execution_count": 14,
   "id": "92ff3f3d",
   "metadata": {},
   "outputs": [
    {
     "name": "stdout",
     "output_type": "stream",
     "text": [
      "Enter first number: 23\n",
      "Enter second number: 89\n",
      "Enter third number: 90\n",
      "Enter four number: 899\n",
      "Enter fifth number: 6\n",
      "The largest number is 899\n"
     ]
    }
   ],
   "source": [
    "# Python program to find the largest number among the five input numbers\n",
    "# change the values of num1, num2 , num3 ,num4 & num5\n",
    "num1 = int(input(\"Enter first number: \"))\n",
    "num2 = int(input(\"Enter second number: \"))\n",
    "num3 = int(input(\"Enter third number: \"))\n",
    "num4 = int(input(\"Enter four number: \"))\n",
    "num5 = int(input(\"Enter fifth number: \"))\n",
    "if(num1 >= num2) and (num1 >= num3) and (num1 >= num4) and (num1>=num5):\n",
    "   largest = num1\n",
    "if(num2 >= num1) and (num2 >= num3) and (num2 >= num4)and(num2>=num5):\n",
    "   largest = num2\n",
    "if(num3 >= num1) and (num3 >= num2) and (num3>= num4)and(num3>=num5):\n",
    "   largest = num3\n",
    "elif(num4 >= num1) and (num4 >= num2) and (num4 >= num3)and(num4>=num5):\n",
    "   largest = num4\n",
    "else:\n",
    "   largest = num5\n",
    "\n",
    "print(\"The largest number is\", largest)"
   ]
  },
  {
   "cell_type": "markdown",
   "id": "26dd9692",
   "metadata": {},
   "source": [
    "# Enter the n numbers , to find biggest number"
   ]
  },
  {
   "cell_type": "code",
   "execution_count": 17,
   "id": "71ffc5d8",
   "metadata": {},
   "outputs": [
    {
     "name": "stdout",
     "output_type": "stream",
     "text": [
      "Enter number of elements:12\n",
      "Enter element:1\n",
      "Enter element:23\n",
      "Enter element:45\n",
      "Enter element:67\n",
      "Enter element:78\n",
      "Enter element:89\n",
      "Enter element:187\n",
      "Enter element:127\n",
      "Enter element:56433\n",
      "Enter element:99999\n",
      "Enter element:6748\n",
      "Enter element:276\n",
      "[1, 23, 45, 67, 78, 89, 127, 187, 276, 6748, 56433, 99999]\n",
      "Largest is: 99999\n"
     ]
    }
   ],
   "source": [
    "a=[]\n",
    "#Enter the no of values\n",
    "n=int(input(\"Enter number of elements:\"))\n",
    "for i in range(1,n+1):\n",
    "#Enter the values     \n",
    "    b=int(input(\"Enter element:\"))\n",
    "#Append the values to the list    \n",
    "    a.append(b)\n",
    "#Sort values    \n",
    "a.sort()\n",
    "print(a)\n",
    "# Last numbe in the list\n",
    "print(\"Largest is:\",a[-1])"
   ]
  },
  {
   "cell_type": "code",
   "execution_count": 18,
   "id": "800a0f4e",
   "metadata": {},
   "outputs": [
    {
     "name": "stdout",
     "output_type": "stream",
     "text": [
      "Enter number of elements:5\n",
      "Enter element:23\n",
      "Enter element:4\n",
      "Enter element:567\n",
      "Enter element:8900\n",
      "Enter element:60000\n",
      "[4, 23, 567, 8900, 60000]\n",
      "Largest is: 4\n"
     ]
    }
   ],
   "source": [
    "#Enter the n numbers , to find smallest number\n",
    "a=[]\n",
    "#Enter the no of values\n",
    "n=int(input(\"Enter number of elements:\"))\n",
    "for i in range(1,n+1):\n",
    "#Enter the values     \n",
    "    b=int(input(\"Enter element:\"))\n",
    "#Append the values to the list    \n",
    "    a.append(b)\n",
    "#Sort values    \n",
    "a.sort()\n",
    "print(a)\n",
    "# Last numbe in the list\n",
    "print(\"Largest is:\",a[0])\n"
   ]
  },
  {
   "cell_type": "code",
   "execution_count": 19,
   "id": "d124df05",
   "metadata": {},
   "outputs": [
    {
     "name": "stdout",
     "output_type": "stream",
     "text": [
      "Enter the first number: 34\n",
      "Enter the second number: 5\n",
      "Quotient is: 6\n",
      "Remainder is: 4\n"
     ]
    }
   ],
   "source": [
    "# Python Program to Find Quotient and Remainder of Two Numbers\n",
    "\n",
    "a=int(input(\"Enter the first number: \"))\n",
    "b=int(input(\"Enter the second number: \"))\n",
    "quotient=a//b\n",
    "remainder=a%b\n",
    "print(\"Quotient is:\",quotient)\n",
    "print(\"Remainder is:\",remainder)"
   ]
  },
  {
   "cell_type": "code",
   "execution_count": null,
   "id": "3bfea34d",
   "metadata": {},
   "outputs": [],
   "source": []
  }
 ],
 "metadata": {
  "kernelspec": {
   "display_name": "Python 3",
   "language": "python",
   "name": "python3"
  },
  "language_info": {
   "codemirror_mode": {
    "name": "ipython",
    "version": 3
   },
   "file_extension": ".py",
   "mimetype": "text/x-python",
   "name": "python",
   "nbconvert_exporter": "python",
   "pygments_lexer": "ipython3",
   "version": "3.8.8"
  }
 },
 "nbformat": 4,
 "nbformat_minor": 5
}
