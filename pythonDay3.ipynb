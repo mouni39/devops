{
 "cells": [
  {
   "cell_type": "code",
   "execution_count": 1,
   "id": "526eabe8",
   "metadata": {},
   "outputs": [
    {
     "data": {
      "text/plain": [
       "1"
      ]
     },
     "execution_count": 1,
     "metadata": {},
     "output_type": "execute_result"
    }
   ],
   "source": [
    "1 and 1"
   ]
  },
  {
   "cell_type": "code",
   "execution_count": 2,
   "id": "1a909f93",
   "metadata": {},
   "outputs": [
    {
     "data": {
      "text/plain": [
       "0"
      ]
     },
     "execution_count": 2,
     "metadata": {},
     "output_type": "execute_result"
    }
   ],
   "source": [
    "1 and 0"
   ]
  },
  {
   "cell_type": "code",
   "execution_count": 3,
   "id": "30f455ed",
   "metadata": {},
   "outputs": [
    {
     "data": {
      "text/plain": [
       "1"
      ]
     },
     "execution_count": 3,
     "metadata": {},
     "output_type": "execute_result"
    }
   ],
   "source": [
    "1 or 0"
   ]
  },
  {
   "cell_type": "code",
   "execution_count": 4,
   "id": "172c9388",
   "metadata": {},
   "outputs": [
    {
     "data": {
      "text/plain": [
       "1"
      ]
     },
     "execution_count": 4,
     "metadata": {},
     "output_type": "execute_result"
    }
   ],
   "source": [
    "0 or 1"
   ]
  },
  {
   "cell_type": "code",
   "execution_count": 5,
   "id": "a20df9ec",
   "metadata": {},
   "outputs": [
    {
     "data": {
      "text/plain": [
       "1"
      ]
     },
     "execution_count": 5,
     "metadata": {},
     "output_type": "execute_result"
    }
   ],
   "source": [
    "1 or 1"
   ]
  },
  {
   "cell_type": "code",
   "execution_count": 6,
   "id": "c575d820",
   "metadata": {},
   "outputs": [
    {
     "data": {
      "text/plain": [
       "0"
      ]
     },
     "execution_count": 6,
     "metadata": {},
     "output_type": "execute_result"
    }
   ],
   "source": [
    "0 and 1"
   ]
  },
  {
   "cell_type": "code",
   "execution_count": 8,
   "id": "c558d0c2",
   "metadata": {},
   "outputs": [
    {
     "data": {
      "text/plain": [
       "False"
      ]
     },
     "execution_count": 8,
     "metadata": {},
     "output_type": "execute_result"
    }
   ],
   "source": [
    "(1>2) and (2<3)"
   ]
  },
  {
   "cell_type": "code",
   "execution_count": 9,
   "id": "c70e3de5",
   "metadata": {},
   "outputs": [
    {
     "data": {
      "text/plain": [
       "True"
      ]
     },
     "execution_count": 9,
     "metadata": {},
     "output_type": "execute_result"
    }
   ],
   "source": [
    "(1==1) and (3<4)"
   ]
  },
  {
   "cell_type": "code",
   "execution_count": 10,
   "id": "504dd4b9",
   "metadata": {},
   "outputs": [
    {
     "data": {
      "text/plain": [
       "False"
      ]
     },
     "execution_count": 10,
     "metadata": {},
     "output_type": "execute_result"
    }
   ],
   "source": [
    "(1>9) and (6<1)"
   ]
  },
  {
   "cell_type": "code",
   "execution_count": 11,
   "id": "2d1f551e",
   "metadata": {},
   "outputs": [
    {
     "data": {
      "text/plain": [
       "False"
      ]
     },
     "execution_count": 11,
     "metadata": {},
     "output_type": "execute_result"
    }
   ],
   "source": [
    "(5<8) and (1==4)"
   ]
  },
  {
   "cell_type": "code",
   "execution_count": 12,
   "id": "e55b8121",
   "metadata": {},
   "outputs": [
    {
     "data": {
      "text/plain": [
       "True"
      ]
     },
     "execution_count": 12,
     "metadata": {},
     "output_type": "execute_result"
    }
   ],
   "source": [
    "(5<4) or (5==5)"
   ]
  },
  {
   "cell_type": "code",
   "execution_count": 13,
   "id": "20795ade",
   "metadata": {},
   "outputs": [
    {
     "data": {
      "text/plain": [
       "True"
      ]
     },
     "execution_count": 13,
     "metadata": {},
     "output_type": "execute_result"
    }
   ],
   "source": [
    "(5<3) or (5>2)"
   ]
  },
  {
   "cell_type": "code",
   "execution_count": 18,
   "id": "11bfc073",
   "metadata": {},
   "outputs": [
    {
     "data": {
      "text/plain": [
       "False"
      ]
     },
     "execution_count": 18,
     "metadata": {},
     "output_type": "execute_result"
    }
   ],
   "source": [
    "(5<1) or (5>11) "
   ]
  },
  {
   "cell_type": "code",
   "execution_count": 19,
   "id": "60cf47ee",
   "metadata": {},
   "outputs": [
    {
     "data": {
      "text/plain": [
       "[False]"
      ]
     },
     "execution_count": 19,
     "metadata": {},
     "output_type": "execute_result"
    }
   ],
   "source": [
    "[(5<1) or (5>11)] and [(5<8) and (1==4)]"
   ]
  },
  {
   "cell_type": "code",
   "execution_count": 20,
   "id": "ac81da89",
   "metadata": {},
   "outputs": [
    {
     "data": {
      "text/plain": [
       "False"
      ]
     },
     "execution_count": 20,
     "metadata": {},
     "output_type": "execute_result"
    }
   ],
   "source": [
    "((5<1) or (5>11)) and ((5<8) and (1==4))"
   ]
  },
  {
   "cell_type": "code",
   "execution_count": 21,
   "id": "96bbc11f",
   "metadata": {},
   "outputs": [
    {
     "data": {
      "text/plain": [
       "False"
      ]
     },
     "execution_count": 21,
     "metadata": {},
     "output_type": "execute_result"
    }
   ],
   "source": [
    "((5<8) and (1==4)) and ((5<1) or (5>11)) "
   ]
  },
  {
   "cell_type": "code",
   "execution_count": 26,
   "id": "d8fa9d68",
   "metadata": {},
   "outputs": [
    {
     "name": "stdout",
     "output_type": "stream",
     "text": [
      "[1, 2, 3]\n"
     ]
    }
   ],
   "source": [
    "List=[];\n",
    "List.insert(0,1);\n",
    "List.insert(1,2);\n",
    "List.insert(2,3);\n",
    "print(List);"
   ]
  },
  {
   "cell_type": "code",
   "execution_count": 27,
   "id": "349354ab",
   "metadata": {},
   "outputs": [
    {
     "name": "stdout",
     "output_type": "stream",
     "text": [
      "[1, 3, 2, 3]\n"
     ]
    }
   ],
   "source": [
    "List.insert(1,3);\n",
    "print(List);"
   ]
  },
  {
   "cell_type": "code",
   "execution_count": 28,
   "id": "6d65ebbd",
   "metadata": {},
   "outputs": [
    {
     "name": "stdout",
     "output_type": "stream",
     "text": [
      "[1, 2, 3, 4, 5, 6, 7, 10]\n"
     ]
    }
   ],
   "source": [
    "list1=[1,2,3,4];\n",
    "list2=[5,6,7,10];\n",
    "print(list1 + list2);"
   ]
  },
  {
   "cell_type": "code",
   "execution_count": 29,
   "id": "cdb452ef",
   "metadata": {},
   "outputs": [
    {
     "name": "stdout",
     "output_type": "stream",
     "text": [
      "[1, 24, 5, 0, 11]\n"
     ]
    }
   ],
   "source": [
    "list1=[1,24,5,8,0,11];\n",
    "list1.remove(8);\n",
    "print(list1);"
   ]
  },
  {
   "cell_type": "code",
   "execution_count": 30,
   "id": "33fdbba6",
   "metadata": {},
   "outputs": [
    {
     "name": "stdout",
     "output_type": "stream",
     "text": [
      "[1, 2, 3, 19, 27]\n"
     ]
    }
   ],
   "source": [
    "list1=[1,2,3];\n",
    "list2=[19,27];\n",
    "list1.extend(list2);\n",
    "print(list1);"
   ]
  },
  {
   "cell_type": "code",
   "execution_count": 31,
   "id": "a246fb75",
   "metadata": {},
   "outputs": [
    {
     "name": "stdout",
     "output_type": "stream",
     "text": [
      "[19, 27, 1, 2, 3]\n"
     ]
    }
   ],
   "source": [
    "list1=[1,2,3];\n",
    "list2=[19,27];\n",
    "list2.extend(list1);\n",
    "print(list2);"
   ]
  },
  {
   "cell_type": "code",
   "execution_count": 32,
   "id": "e6d5a3ce",
   "metadata": {},
   "outputs": [
    {
     "name": "stdout",
     "output_type": "stream",
     "text": [
      "[8, 7, 6, 5, 4, 3, 2, 1]\n"
     ]
    }
   ],
   "source": [
    "list1=[1,2,3,4,5,6,7,8];\n",
    "list1.reverse();\n",
    "print(list1);"
   ]
  },
  {
   "cell_type": "code",
   "execution_count": 35,
   "id": "f254184c",
   "metadata": {},
   "outputs": [
    {
     "name": "stdout",
     "output_type": "stream",
     "text": [
      "[12, 23, 43, 46, 67, 78, 87]\n"
     ]
    }
   ],
   "source": [
    "list1=[67,43,23,78,12,46,87];\n",
    "sort_list1=sorted(list1);\n",
    "print(sort_list1);"
   ]
  },
  {
   "cell_type": "code",
   "execution_count": 36,
   "id": "47728b2e",
   "metadata": {},
   "outputs": [
    {
     "name": "stdout",
     "output_type": "stream",
     "text": [
      "2046052735232\n"
     ]
    }
   ],
   "source": [
    "list1=[1,2,3];\n",
    "print(id(list1)); #memory location address"
   ]
  },
  {
   "cell_type": "code",
   "execution_count": 37,
   "id": "5aea13c6",
   "metadata": {},
   "outputs": [
    {
     "name": "stdout",
     "output_type": "stream",
     "text": [
      "['I', 'am', 'learning', 'python']\n"
     ]
    }
   ],
   "source": [
    "# splitting\n",
    "s=\"I am learning python\"\n",
    "list1=s.split();\n",
    "print(list1);"
   ]
  },
  {
   "cell_type": "code",
   "execution_count": 41,
   "id": "1fd2045d",
   "metadata": {},
   "outputs": [
    {
     "name": "stdout",
     "output_type": "stream",
     "text": [
      "[1, 2, 3]\n"
     ]
    }
   ],
   "source": [
    "# slicing\n",
    "list1=[1,2,3,4,5,6,7,8,9];\n",
    "print(list1[0:3]);"
   ]
  },
  {
   "cell_type": "code",
   "execution_count": 40,
   "id": "d476a0da",
   "metadata": {},
   "outputs": [
    {
     "name": "stdout",
     "output_type": "stream",
     "text": [
      "[3, 6]\n"
     ]
    }
   ],
   "source": [
    "# step size [start:end:stepsize]\n",
    "print(list1[2:10:3]);"
   ]
  },
  {
   "cell_type": "code",
   "execution_count": 42,
   "id": "09599343",
   "metadata": {},
   "outputs": [
    {
     "name": "stdout",
     "output_type": "stream",
     "text": [
      "[3, 6, 9]\n"
     ]
    }
   ],
   "source": [
    "print(list1[2:10:3]);"
   ]
  },
  {
   "cell_type": "code",
   "execution_count": 44,
   "id": "7f9abd2f",
   "metadata": {},
   "outputs": [
    {
     "name": "stdout",
     "output_type": "stream",
     "text": [
      "4\n"
     ]
    }
   ],
   "source": [
    "# frequency\n",
    "list4=[1,1,1,1,2,2,2,8,8,8,8,9];\n",
    "print(list4.count(8))"
   ]
  },
  {
   "cell_type": "code",
   "execution_count": 48,
   "id": "1d6caf28",
   "metadata": {},
   "outputs": [
    {
     "name": "stdout",
     "output_type": "stream",
     "text": [
      "[0, 2, 4, 6, 8]\n"
     ]
    }
   ],
   "source": [
    "even=[];\n",
    "for i in range(10):\n",
    " if(i%2==0):\n",
    "   even.append(i);\n",
    "print(even);"
   ]
  },
  {
   "cell_type": "code",
   "execution_count": 51,
   "id": "2876aca0",
   "metadata": {},
   "outputs": [
    {
     "name": "stdout",
     "output_type": "stream",
     "text": [
      "[1, 3, 5, 7, 9]\n"
     ]
    }
   ],
   "source": [
    "odd=[];\n",
    "for i in range(10):\n",
    " if(i%2==1):\n",
    "   odd.append(i);\n",
    "print(odd);"
   ]
  },
  {
   "cell_type": "code",
   "execution_count": null,
   "id": "2ae2db0a",
   "metadata": {},
   "outputs": [],
   "source": []
  }
 ],
 "metadata": {
  "kernelspec": {
   "display_name": "Python 3 (ipykernel)",
   "language": "python",
   "name": "python3"
  },
  "language_info": {
   "codemirror_mode": {
    "name": "ipython",
    "version": 3
   },
   "file_extension": ".py",
   "mimetype": "text/x-python",
   "name": "python",
   "nbconvert_exporter": "python",
   "pygments_lexer": "ipython3",
   "version": "3.9.12"
  }
 },
 "nbformat": 4,
 "nbformat_minor": 5
}
